{
 "cells": [
  {
   "cell_type": "code",
   "execution_count": 24,
   "metadata": {},
   "outputs": [
    {
     "data": {
      "text/plain": [
       "129"
      ]
     },
     "execution_count": 24,
     "metadata": {},
     "output_type": "execute_result"
    }
   ],
   "source": [
    "a = [1,0,0,3,1,1,2,3,1,3,4,3,1,5,0,3,2,1,9,19,1,13,19,23,2,23,9,27,1,6,27,31,2,10,31,35,1,6,35,39,2,9,39,43,1,5,43,47,2,47,13,51,2,51,10,55,1,55,5,59,1,59,9,63,1,63,9,67,2,6,67,71,1,5,71,75,1,75,6,79,1,6,79,83,1,83,9,87,2,87,10,91,2,91,10,95,1,95,5,99,1,99,13,103,2,103,9,107,1,6,107,111,1,111,5,115,1,115,2,119,1,5,119,0,99,2,0,14,0]\n",
    "#a = [1,9,10,3,2,3,11,0,99,30,40,50]\n",
    "#a = [1,1,1,4,99,5,6,0,99]\n",
    "a_size = len(a)\n",
    "a_size"
   ]
  },
  {
   "cell_type": "code",
   "execution_count": 29,
   "metadata": {},
   "outputs": [
    {
     "name": "stdout",
     "output_type": "stream",
     "text": [
      "for part 1:\n",
      "2894520\n",
      "for part 2:\n",
      "9342\n"
     ]
    }
   ],
   "source": [
    "def run(arg1, arg2):\n",
    "    b = a.copy()\n",
    "    i = 0\n",
    "    b[1] = arg1\n",
    "    b[2] = arg2\n",
    "    while(i < a_size and b[i] != 99):\n",
    "        if(b[i] == 1):\n",
    "            #print(\"before pos(%i) = %i + %i\" % (i + 3, b[b[i + 1]], b[b[i + 2]]))\n",
    "            b[b[i + 3]] = b[b[i + 1]] + b[b[i + 2]]\n",
    "        elif(b[i] == 2):\n",
    "            b[b[i + 3]] = b[b[i + 1]] * b[b[i + 2]]\n",
    "        else:\n",
    "            print(\"error unknown opcode %i\" % (b[i]))\n",
    "        i = i + 4\n",
    "    return b[0]\n",
    "\n",
    "def findval(val):\n",
    "    for noun in range(100):\n",
    "        for verb in range(100):\n",
    "            if(run(noun,verb) == val):\n",
    "                return 100*noun + verb\n",
    "    return \"nope\"\n",
    "print(\"for part 1:\")\n",
    "print(run(12,2))\n",
    "\n",
    "print(\"for part 2:\")\n",
    "print(findval(19690720))\n"
   ]
  },
  {
   "cell_type": "code",
   "execution_count": null,
   "metadata": {},
   "outputs": [],
   "source": []
  },
  {
   "cell_type": "code",
   "execution_count": null,
   "metadata": {},
   "outputs": [],
   "source": []
  }
 ],
 "metadata": {
  "kernelspec": {
   "display_name": "Python 3",
   "language": "python",
   "name": "python3"
  },
  "language_info": {
   "codemirror_mode": {
    "name": "ipython",
    "version": 3
   },
   "file_extension": ".py",
   "mimetype": "text/x-python",
   "name": "python",
   "nbconvert_exporter": "python",
   "pygments_lexer": "ipython3",
   "version": "3.7.4"
  }
 },
 "nbformat": 4,
 "nbformat_minor": 2
}
