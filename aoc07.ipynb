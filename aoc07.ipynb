{
 "cells": [
  {
   "cell_type": "code",
   "execution_count": 1,
   "metadata": {},
   "outputs": [],
   "source": [
    "a1 = [3,15,3,16,1002,16,10,16,1,16,15,15,4,15,99,0,0]"
   ]
  },
  {
   "cell_type": "code",
   "execution_count": 49,
   "metadata": {},
   "outputs": [
    {
     "name": "stdout",
     "output_type": "stream",
     "text": [
      "test 1: 43210\n",
      "test 2: 54321\n"
     ]
    }
   ],
   "source": [
    "import math\n",
    "\n",
    "def init_computer(code, inputs):\n",
    "    return {\n",
    "        'mem': code.copy(),\n",
    "        'inst': 0,\n",
    "        'inputs': inputs.copy(),\n",
    "        'outputs': [],\n",
    "        'halt': False,\n",
    "        'needs_input': False\n",
    "    }\n",
    "\n",
    "def run(computer):\n",
    "    code_size = len(computer['mem'])\n",
    "    b = computer['mem']\n",
    "    i = computer['inst']\n",
    "    outputs = []\n",
    "    op_info = {1:3, 2:3, 3:1, 4:1, 5:2, 6:2, 7:3, 8:3, 99:0}\n",
    "    while(i < code_size):\n",
    "        opcode = b[i] % 100\n",
    "        if(not(opcode in op_info)):\n",
    "            print(\"error unknown opcode %i\" % (opcode))\n",
    "            computer['needs_input'] = False\n",
    "            break\n",
    "        a0 = -1\n",
    "        a1 = -1\n",
    "        a2 = -1\n",
    "        jump = False\n",
    "        if(op_info[opcode] > 0):\n",
    "            p_mode = (math.floor(b[i] / 100) % 10)\n",
    "            if( p_mode == 0 ):\n",
    "                a0 = b[i + 1]\n",
    "                #print(\"arg0 in ptr mode\")\n",
    "            elif( p_mode == 1 ):\n",
    "                #print(\"arg0 in imm mode\")\n",
    "                a0 = i + 1\n",
    "        if(op_info[opcode] > 1):\n",
    "            p_mode = (math.floor(b[i] / 1000) % 10)\n",
    "            if( p_mode == 0 ):\n",
    "                #print(\"arg1 in ptr mode\")\n",
    "                a1 = b[i + 2]\n",
    "            elif( p_mode == 1 ):\n",
    "                a1 = i + 2\n",
    "                #print(\"arg1 in imm mode: %i\" % a1)\n",
    "        if(op_info[opcode] > 2):\n",
    "            p_mode = (math.floor(b[i] / 10000) % 10)\n",
    "            if( p_mode == 0 ):\n",
    "                #print(\"arg2 in ptr mode\")\n",
    "                a2 = b[i + 3]\n",
    "            elif( p_mode == 1 ):\n",
    "                #print(\"arg2 in imm mode\")\n",
    "                a2 = i + 3\n",
    "        if(opcode == 1):\n",
    "            #print(\"add %i + %i\" % (b[a0], b[a1]))\n",
    "            #print(\"before pos(%i) = %i + %i\" % (i + 3, b[b[i + 1]], b[b[i + 2]]))\n",
    "            b[a2] = b[a0] + b[a1]\n",
    "        elif(opcode == 2):\n",
    "            #print(\"mult %i x %i\" % (b[a0], b[a1]))\n",
    "            b[a2] = b[a0] * b[a1]\n",
    "        elif(opcode == 3):\n",
    "            if(len(computer['inputs']) == 0):\n",
    "                #print(\"waiting on input\")\n",
    "                computer['needs_input'] = True\n",
    "                break\n",
    "            b[a0] = computer['inputs'][0]\n",
    "            computer['inputs'] = computer['inputs'][1:]\n",
    "        elif(opcode == 4):\n",
    "            #print(\"out: %i\" % (b[a0]))\n",
    "            outputs.append(b[a0])\n",
    "        elif(opcode == 5):\n",
    "            if(b[a0] != 0):\n",
    "                jump = True\n",
    "                i = b[a1]\n",
    "        elif(opcode == 6):\n",
    "            if(b[a0] == 0):\n",
    "                jump = True\n",
    "                i = b[a1]\n",
    "        elif(opcode == 7):\n",
    "            b[a2] = 1 if(b[a0] < b[a1]) else 0\n",
    "        elif(opcode == 8):\n",
    "            b[a2] = 1 if(b[a0] == b[a1]) else 0\n",
    "        elif(opcode == 99):\n",
    "            #print('halting due to opcode 99')\n",
    "            computer['halt'] = True\n",
    "            computer['needs_input'] = False\n",
    "            break\n",
    "        if(not(jump)):\n",
    "            i = i + op_info[opcode] + 1\n",
    "        if(i >= code_size):\n",
    "            print('exiting b/c end of code reached')\n",
    "            computer['needs_input'] = False\n",
    "    computer['outputs'] = outputs\n",
    "    computer['mem'] = b\n",
    "    computer['inst'] = i\n",
    "    \n",
    "    return computer\n",
    "\n",
    "def run_amps(code, setting):\n",
    "    compA = init_computer(code, [setting[0], 0])\n",
    "    compB = init_computer(code, [setting[1]])\n",
    "    compC = init_computer(code, [setting[2]])\n",
    "    compD = init_computer(code, [setting[3]])\n",
    "    compE = init_computer(code, [setting[4]])\n",
    "\n",
    "    while(1):\n",
    "        compA = run(compA)\n",
    "        a_out = compA['outputs']\n",
    "        compA['outputs'] = []\n",
    "        compB['inputs'] = compB['inputs'] + a_out\n",
    "\n",
    "        compB = run(compB)\n",
    "        b_out = compB['outputs']\n",
    "        compB['outputs'] = []\n",
    "        compC['inputs'] = compC['inputs'] + b_out\n",
    "\n",
    "        compC = run(compC)\n",
    "        c_out = compC['outputs']\n",
    "        compC['outputs'] = []\n",
    "        compD['inputs'] = compD['inputs'] + c_out\n",
    "\n",
    "        compD = run(compD)\n",
    "        d_out = compD['outputs']\n",
    "        compD['outputs'] = []\n",
    "        compE['inputs'] = compE['inputs'] + d_out\n",
    "        compE = run(compE)\n",
    "        \n",
    "        if(compE['halt']):\n",
    "            break\n",
    "        \n",
    "        e_out = compE['outputs']\n",
    "        \n",
    "        if(len(e_out) == 0):\n",
    "            if((compA['needs_input'] or compA['halt']) and \n",
    "               (compB['needs_input'] or compB['halt']) and \n",
    "               (compC['needs_input'] or compC['halt']) and \n",
    "               (compD['needs_input'] or compD['halt']) and \n",
    "               (compE['needs_input'] or compE['halt'])):\n",
    "                return \"nope: lacking input and/or halted\"\n",
    "        \n",
    "        compE['outputs'] = []\n",
    "        compA['inputs'] = compA['inputs'] + e_out\n",
    "    \n",
    "    return compE['outputs'][0]\n",
    "\n",
    "\n",
    "setting = [4,3,2,1,0]\n",
    "output = run_amps(a1, setting)\n",
    "print(\"test 1: %i\" % output)\n",
    "\n",
    "a2 = [3,23,3,24,1002,24,10,24,1002,23,-1,23,101,5,23,23,1,24,23,23,4,23,99,0,0]\n",
    "setting = [0,1,2,3,4]\n",
    "output = run_amps(a2, setting)\n",
    "print(\"test 2: %i\" % output)\n"
   ]
  },
  {
   "cell_type": "code",
   "execution_count": 50,
   "metadata": {},
   "outputs": [
    {
     "name": "stdout",
     "output_type": "stream",
     "text": [
      "[[4, 3, 2, 1, 0], 43210]\n",
      "[[1, 0, 4, 3, 2], 65210]\n",
      "part1:\n",
      "[[3, 2, 4, 0, 1], 440880]\n"
     ]
    }
   ],
   "source": [
    "def perm(l):\n",
    "    if(len(l) < 2):\n",
    "        return [l]\n",
    "    \n",
    "    p = []\n",
    "    for i in range(len(l)):\n",
    "        first = l[i]\n",
    "        rest = l[:i] + l[i+1:]\n",
    "        for partial_perm in perm(rest):\n",
    "            p.append([first] + partial_perm)\n",
    "    return p\n",
    "\n",
    "def find_optimal(code, options):\n",
    "    settings = perm(options)\n",
    "    highest = []\n",
    "    highest_power = 0\n",
    "    for setting in settings:\n",
    "        power_output = run_amps(code, setting)\n",
    "        if(power_output > highest_power):\n",
    "            highest_power = power_output\n",
    "            highest = setting\n",
    "    return [highest, highest_power]\n",
    "\n",
    "optimal = find_optimal([3,15,3,16,1002,16,10,16,1,16,15,15,4,15,99,0,0], [0,1,2,3,4])\n",
    "print(optimal)\n",
    "\n",
    "optimal = find_optimal([3,31,3,32,1002,32,10,32,1001,31,-2,31,1007,31,0,33,1002,33,7,33,1,33,31,31,1,32,31,31,4,31,99,0,0,0],[0,1,2,3,4])\n",
    "print(optimal)\n",
    "\n",
    "part1_code = [3,8,1001,8,10,8,105,1,0,0,21,46,55,68,89,110,191,272,353,434,99999,3,9,1002,9,3,9,1001,9,3,9,102,4,9,9,101,4,9,9,1002,9,5,9,4,9,99,3,9,102,3,9,9,4,9,99,3,9,1001,9,5,9,102,4,9,9,4,9,99,3,9,1001,9,5,9,1002,9,2,9,1001,9,5,9,1002,9,3,9,4,9,99,3,9,101,3,9,9,102,3,9,9,101,3,9,9,1002,9,4,9,4,9,99,3,9,1001,9,1,9,4,9,3,9,1001,9,1,9,4,9,3,9,102,2,9,9,4,9,3,9,1001,9,2,9,4,9,3,9,1001,9,2,9,4,9,3,9,1002,9,2,9,4,9,3,9,101,2,9,9,4,9,3,9,1002,9,2,9,4,9,3,9,1001,9,1,9,4,9,3,9,1001,9,2,9,4,9,99,3,9,102,2,9,9,4,9,3,9,101,2,9,9,4,9,3,9,101,2,9,9,4,9,3,9,1001,9,1,9,4,9,3,9,102,2,9,9,4,9,3,9,101,2,9,9,4,9,3,9,1002,9,2,9,4,9,3,9,101,1,9,9,4,9,3,9,101,2,9,9,4,9,3,9,101,2,9,9,4,9,99,3,9,101,2,9,9,4,9,3,9,102,2,9,9,4,9,3,9,101,1,9,9,4,9,3,9,101,2,9,9,4,9,3,9,1002,9,2,9,4,9,3,9,101,2,9,9,4,9,3,9,1002,9,2,9,4,9,3,9,102,2,9,9,4,9,3,9,1001,9,1,9,4,9,3,9,101,2,9,9,4,9,99,3,9,102,2,9,9,4,9,3,9,102,2,9,9,4,9,3,9,101,1,9,9,4,9,3,9,1002,9,2,9,4,9,3,9,102,2,9,9,4,9,3,9,1002,9,2,9,4,9,3,9,1001,9,2,9,4,9,3,9,101,2,9,9,4,9,3,9,101,2,9,9,4,9,3,9,1001,9,1,9,4,9,99,3,9,1002,9,2,9,4,9,3,9,101,2,9,9,4,9,3,9,1001,9,1,9,4,9,3,9,101,1,9,9,4,9,3,9,101,2,9,9,4,9,3,9,102,2,9,9,4,9,3,9,102,2,9,9,4,9,3,9,1002,9,2,9,4,9,3,9,1001,9,1,9,4,9,3,9,102,2,9,9,4,9,99]\n",
    "print(\"part1:\")\n",
    "print(find_optimal(part1_code, [0,1,2,3,4]))"
   ]
  },
  {
   "cell_type": "code",
   "execution_count": 51,
   "metadata": {},
   "outputs": [
    {
     "name": "stdout",
     "output_type": "stream",
     "text": [
      "[[9, 8, 7, 6, 5], 139629729]\n"
     ]
    }
   ],
   "source": [
    "part2_options = [5,6,7,8,9]\n",
    "print(find_optimal([3,26,1001,26,-4,26,3,27,1002,27,2,27,1,27,26,27,4,27,1001,28,-1,28,1005,28,6,99,0,0,5], part2_options))"
   ]
  },
  {
   "cell_type": "code",
   "execution_count": 52,
   "metadata": {},
   "outputs": [
    {
     "name": "stdout",
     "output_type": "stream",
     "text": [
      "[[9, 7, 8, 5, 6], 18216]\n"
     ]
    }
   ],
   "source": [
    "print(find_optimal([3,52,1001,52,-5,52,3,53,1,52,56,54,1007,54,5,55,1005,55,26,1001,54,-5,54,1105,1,12,1,53,54,53,1008,54,0,55,1001,55,1,55,2,53,55,53,4,53,1001,56,-1,56,1005,56,6,99,0,0,0,0,10], part2_options))"
   ]
  },
  {
   "cell_type": "code",
   "execution_count": 53,
   "metadata": {},
   "outputs": [
    {
     "name": "stdout",
     "output_type": "stream",
     "text": [
      "[[5, 7, 9, 6, 8], 3745599]\n"
     ]
    }
   ],
   "source": [
    "print(find_optimal(part1_code, part2_options))"
   ]
  },
  {
   "cell_type": "code",
   "execution_count": null,
   "metadata": {},
   "outputs": [],
   "source": []
  }
 ],
 "metadata": {
  "kernelspec": {
   "display_name": "Python 3",
   "language": "python",
   "name": "python3"
  },
  "language_info": {
   "codemirror_mode": {
    "name": "ipython",
    "version": 3
   },
   "file_extension": ".py",
   "mimetype": "text/x-python",
   "name": "python",
   "nbconvert_exporter": "python",
   "pygments_lexer": "ipython3",
   "version": "3.7.4"
  }
 },
 "nbformat": 4,
 "nbformat_minor": 2
}
