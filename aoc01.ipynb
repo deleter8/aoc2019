{
 "cells": [
  {
   "cell_type": "code",
   "execution_count": 1,
   "metadata": {},
   "outputs": [
    {
     "data": {
      "text/plain": [
       "1"
      ]
     },
     "execution_count": 1,
     "metadata": {},
     "output_type": "execute_result"
    }
   ],
   "source": [
    "1"
   ]
  },
  {
   "cell_type": "code",
   "execution_count": 3,
   "metadata": {},
   "outputs": [
    {
     "data": {
      "text/plain": [
       "2"
      ]
     },
     "execution_count": 3,
     "metadata": {},
     "output_type": "execute_result"
    }
   ],
   "source": [
    "import math\n",
    "math.floor(2.5)"
   ]
  },
  {
   "cell_type": "code",
   "execution_count": 4,
   "metadata": {},
   "outputs": [
    {
     "data": {
      "text/plain": [
       "1"
      ]
     },
     "execution_count": 4,
     "metadata": {},
     "output_type": "execute_result"
    }
   ],
   "source": [
    "math.floor(1.5)"
   ]
  },
  {
   "cell_type": "code",
   "execution_count": 5,
   "metadata": {},
   "outputs": [],
   "source": [
    "a = [120333, 142772, 85755, 90217, 74894, 86021, 66768, 147353, 67426, 145635, 100070, 88290, 110673, 109887, 91389, 121365, 52760, 58613, 130918, 57842, 80622, 50466, 80213, 85816, 149832, 133813, 60211, 69491, 129415, 141471, 77916, 98907, 63440, 109545, 80183, 143073, 77783, 88546, 149648, 128010, 55530, 54878, 103885, 57312, 81011, 148450, 137947, 67252, 106264, 149860, 71677, 101209, 128477, 112159, 56027, 53313, 118916, 98057, 131668, 61605, 107488, 65517, 63594, 84072, 79214, 141606, 137375, 112525, 64572, 126216, 57013, 130003, 122450, 50642, 136844, 96272, 97861, 59071, 106870, 116595, 144966, 88723, 124038, 63629, 105304, 52928, 92917, 147571, 120553, 113823, 85524, 71152, 95199, 102000, 118874, 133317, 146849, 60450, 103307, 117162]"
   ]
  },
  {
   "cell_type": "code",
   "execution_count": 9,
   "metadata": {},
   "outputs": [
    {
     "data": {
      "text/plain": [
       "3295424"
      ]
     },
     "execution_count": 9,
     "metadata": {},
     "output_type": "execute_result"
    }
   ],
   "source": [
    "sum([y - 2 for y in [math.floor(x / 3) for x in a]])\n"
   ]
  },
  {
   "cell_type": "code",
   "execution_count": 10,
   "metadata": {},
   "outputs": [
    {
     "data": {
      "text/plain": [
       "4940279"
      ]
     },
     "execution_count": 10,
     "metadata": {},
     "output_type": "execute_result"
    }
   ],
   "source": [
    "def fuel(f):\n",
    "    f_r = math.floor(f / 3) - 2\n",
    "    if f_r < 1:\n",
    "        return 0\n",
    "    return f_r + fuel(f_r)\n",
    "\n",
    "sum([fuel(x) for x in a])"
   ]
  },
  {
   "cell_type": "code",
   "execution_count": null,
   "metadata": {},
   "outputs": [],
   "source": []
  }
 ],
 "metadata": {
  "kernelspec": {
   "display_name": "Python 3",
   "language": "python",
   "name": "python3"
  },
  "language_info": {
   "codemirror_mode": {
    "name": "ipython",
    "version": 3
   },
   "file_extension": ".py",
   "mimetype": "text/x-python",
   "name": "python",
   "nbconvert_exporter": "python",
   "pygments_lexer": "ipython3",
   "version": "3.7.4"
  }
 },
 "nbformat": 4,
 "nbformat_minor": 2
}
