{
 "cells": [
  {
   "cell_type": "code",
   "execution_count": 1,
   "metadata": {},
   "outputs": [],
   "source": [
    "example1 = [\"10 ORE => 10 A\",\"1 ORE => 1 B\",\"7 A, 1 B => 1 C\",\"7 A, 1 C => 1 D\",\"7 A, 1 D => 1 E\",\"7 A, 1 E => 1 FUEL\"]"
   ]
  },
  {
   "cell_type": "code",
   "execution_count": 2,
   "metadata": {},
   "outputs": [
    {
     "name": "stdout",
     "output_type": "stream",
     "text": [
      "10 ORE => 10 A\n",
      "1 ORE => 1 B\n",
      "7 A + 1 B => 1 C\n",
      "7 A + 1 C => 1 D\n",
      "7 A + 1 D => 1 E\n",
      "7 A + 1 E => 1 FUEL\n"
     ]
    }
   ],
   "source": [
    "#reactants => products\n",
    "class rexpr(object):\n",
    "    def __init__(self, chemical, num):\n",
    "        self.num = num\n",
    "        self.chemical = chemical\n",
    "            \n",
    "    @classmethod\n",
    "    def from_str(cls, istr):\n",
    "        splitstr = istr.split(' ')\n",
    "        return cls(splitstr[1], int(splitstr[0]))\n",
    "    \n",
    "    def __str__(self):\n",
    "        return ('%i %s' % (self.num, self.chemical))\n",
    "    \n",
    "    def __repr__(self):\n",
    "        return ('%i %s' % (self.num, self.chemical))\n",
    "    \n",
    "    def mult(self, times):\n",
    "        return rexpr(self.chemical, self.num * times)\n",
    "    \n",
    "    def add(self, rex):\n",
    "        if(self.chemical != rex.chemical):\n",
    "            print(\"trying to add two different chemicals %s & %s! \" % (str(self), str(rex)))\n",
    "            return None\n",
    "        return rexpr(self.chemical, self.num + rex.num)\n",
    "\n",
    "class Formula(object):\n",
    "    def __init__(self, istr):\n",
    "        if(istr != None):\n",
    "            splitformula = istr.split('=>')\n",
    "            self.reactants = [rexpr.from_str(s.strip()) for s in splitformula[0].split(',')]\n",
    "            self.products = [rexpr.from_str(s.strip()) for s in splitformula[1].split(',')]\n",
    "        \n",
    "    def rchems(self):\n",
    "        return [r.chemical for r in self.reactants]        \n",
    "\n",
    "    def pchems(self):\n",
    "        return [p.chemical for p in self.products]\n",
    "\n",
    "        \n",
    "    def __repr__(self):\n",
    "        s = str(self.reactants[0])\n",
    "        if(len(self.reactants) > 1):\n",
    "            for r in self.reactants[1:]:\n",
    "                s = s + ' + ' + str(r)\n",
    "        s = s + ' => '\n",
    "        \n",
    "        s = s + str(self.products[0])\n",
    "        if(len(self.products) > 1):\n",
    "            for p in self.products[1:]:\n",
    "                s = s + ' + ' + str(p)\n",
    "        return s\n",
    "\n",
    "class Chain(object):\n",
    "    def __init__(self, in_args):\n",
    "        self.formulas = [Formula(istr) for istr in in_args]\n",
    "        \n",
    "        self.flookup = {}\n",
    "        \n",
    "        ps = set()\n",
    "        for f in self.formulas:            \n",
    "            if(len(f.products)>1):\n",
    "                print(\"multiple products!\")\n",
    "                return None\n",
    "            chem = f.products[0].chemical\n",
    "            if(chem in ps):\n",
    "                print(\"dup chemical found: %s\" % chem)\n",
    "                return None\n",
    "            ps.add(chem)\n",
    "            self.flookup[chem] = f\n",
    "            \n",
    "        self.setup_depends()\n",
    "    \n",
    "    def find_depends(self, chem):\n",
    "        if(chem == 'ORE'):\n",
    "            return set()\n",
    "        f = self.flookup[chem]\n",
    "        depends = set()\n",
    "        for r in f.reactants:\n",
    "            depends.add(r.chemical)\n",
    "            recursive = self.find_depends(r.chemical)\n",
    "            for rr in recursive:\n",
    "                depends.add(rr)\n",
    "        return depends\n",
    "    \n",
    "    def setup_depends(self):\n",
    "        self.depends = {}\n",
    "        for chem in self.flookup.keys():\n",
    "            self.depends[chem] = self.find_depends(chem)\n",
    "        \n",
    "    \n",
    "chain = Chain(example1)\n",
    "for f in chain.formulas:\n",
    "    print(f)\n",
    "    if(len(f.products)>1):\n",
    "        print(\"multiple products!\")"
   ]
  },
  {
   "cell_type": "code",
   "execution_count": 3,
   "metadata": {},
   "outputs": [],
   "source": [
    "data_set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
   ]
  },
  {
   "cell_type": "code",
   "execution_count": 4,
   "metadata": {},
   "outputs": [
    {
     "data": {
      "text/plain": [
       "{'A': {'ORE'},\n",
       " 'B': {'ORE'},\n",
       " 'C': {'A', 'B', 'ORE'},\n",
       " 'D': {'A', 'B', 'C', 'ORE'},\n",
       " 'E': {'A', 'B', 'C', 'D', 'ORE'},\n",
       " 'FUEL': {'A', 'B', 'C', 'D', 'E', 'ORE'}}"
      ]
     },
     "execution_count": 4,
     "metadata": {},
     "output_type": "execute_result"
    }
   ],
   "source": [
    "chain = Chain(example1)\n",
    "chain.depends"
   ]
  },
  {
   "cell_type": "code",
   "execution_count": 5,
   "metadata": {},
   "outputs": [],
   "source": [
    "import math\n",
    "\n",
    "def needs(chain, rex):\n",
    "    chem = rex.chemical\n",
    "    amt = rex.num\n",
    "    formula = chain.flookup[chem]\n",
    "    times = math.ceil(amt / formula.products[0].num)\n",
    "    return [r.mult(times) for r in formula.reactants]\n",
    "\n",
    "def simplify(chain, lrex):\n",
    "    ones_to_simplify = []\n",
    "    remains = {}\n",
    "    for rex in lrex: #A\n",
    "        simplify_this = True\n",
    "        for crex in lrex: #E\n",
    "            if(crex == rex or crex.chemical == 'ORE'):\n",
    "                continue\n",
    "            if(rex.chemical in chain.depends[crex.chemical]):\n",
    "                simplify_this = False \n",
    "                break\n",
    "        if(simplify_this):\n",
    "            ones_to_simplify.append(rex)\n",
    "        else:\n",
    "            remains[rex.chemical] = rex\n",
    "    \n",
    "    for replaceme in ones_to_simplify:\n",
    "        for newboy in needs(chain, replaceme):\n",
    "            if(newboy.chemical in remains):\n",
    "                remains[newboy.chemical] = remains[newboy.chemical].add(newboy)\n",
    "            else:\n",
    "                remains[newboy.chemical] = newboy\n",
    "    \n",
    "    return [r for r in remains.values()]"
   ]
  },
  {
   "cell_type": "code",
   "execution_count": 6,
   "metadata": {},
   "outputs": [
    {
     "data": {
      "text/plain": [
       "[62 ORE]"
      ]
     },
     "execution_count": 6,
     "metadata": {},
     "output_type": "execute_result"
    }
   ],
   "source": [
    "simplify(chain, simplify(chain, simplify(chain, simplify(chain, needs(chain, rexpr('FUEL', 2))))))"
   ]
  },
  {
   "cell_type": "code",
   "execution_count": 7,
   "metadata": {},
   "outputs": [
    {
     "name": "stdout",
     "output_type": "stream",
     "text": [
      "[31 ORE]\n"
     ]
    }
   ],
   "source": [
    "process = [rexpr('FUEL', 1)]\n",
    "while(True):\n",
    "    process = simplify(chain, process)\n",
    "    if(len(process) == 1 and process[0].chemical == 'ORE'):\n",
    "        break\n",
    "print(process)"
   ]
  },
  {
   "cell_type": "code",
   "execution_count": 8,
   "metadata": {},
   "outputs": [],
   "source": [
    "def run_process(data, achieve = 1):\n",
    "    chain = Chain(data)\n",
    "    process = [rexpr('FUEL', achieve)]\n",
    "    while(True):\n",
    "        process = simplify(chain, process)\n",
    "        if(len(process) == 1 and process[0].chemical == 'ORE'):\n",
    "            break\n",
    "    return process[0]"
   ]
  },
  {
   "cell_type": "code",
   "execution_count": 9,
   "metadata": {},
   "outputs": [
    {
     "data": {
      "text/plain": [
       "31 ORE"
      ]
     },
     "execution_count": 9,
     "metadata": {},
     "output_type": "execute_result"
    }
   ],
   "source": [
    "run_process(example1)"
   ]
  },
  {
   "cell_type": "code",
   "execution_count": 10,
   "metadata": {},
   "outputs": [
    {
     "data": {
      "text/plain": [
       "165 ORE"
      ]
     },
     "execution_count": 10,
     "metadata": {},
     "output_type": "execute_result"
    }
   ],
   "source": [
    "example2 = [\"9 ORE => 2 A\",\"8 ORE => 3 B\",\"7 ORE => 5 C\",\"3 A, 4 B => 1 AB\",\"5 B, 7 C => 1 BC\",\"4 C, 1 A => 1 CA\",\"2 AB, 3 BC, 4 CA => 1 FUEL\"]\n",
    "run_process(example2)"
   ]
  },
  {
   "cell_type": "code",
   "execution_count": 11,
   "metadata": {},
   "outputs": [
    {
     "data": {
      "text/plain": [
       "201324 ORE"
      ]
     },
     "execution_count": 11,
     "metadata": {},
     "output_type": "execute_result"
    }
   ],
   "source": [
    "run_process(data_set)"
   ]
  },
  {
   "cell_type": "code",
   "execution_count": 12,
   "metadata": {},
   "outputs": [],
   "source": [
    "def max_fuel(data):\n",
    "    ore = 1000000000000\n",
    "    \n",
    "    first_run = run_process(data, 1)\n",
    "    \n",
    "    min_try = 1\n",
    "    max_try = int(round(ore / first_run.num))\n",
    "    \n",
    "    #establish upper bound\n",
    "    while(run_process(data, max_try).num < ore):\n",
    "        max_try = max_try * 2\n",
    "    \n",
    "    while(True):\n",
    "        mid_try = int(round((max_try + min_try) / 2))\n",
    "        this_run = run_process(data, mid_try)\n",
    "        if(this_run.num > ore):\n",
    "            #too high\n",
    "            max_try = mid_try\n",
    "        elif(this_run.num < ore):\n",
    "            #lower than 1 trillion\n",
    "            min_try = mid_try\n",
    "        if(max_try == min_try):\n",
    "            return max_try\n",
    "        elif((max_try - 1) == min_try):\n",
    "            final_run = run_process(data, max_try).num\n",
    "            if(final_run > ore):\n",
    "                return min_try\n",
    "            else:\n",
    "                return max_try\n",
    "    "
   ]
  },
  {
   "cell_type": "code",
   "execution_count": 13,
   "metadata": {},
   "outputs": [
    {
     "data": {
      "text/plain": [
       "82892753"
      ]
     },
     "execution_count": 13,
     "metadata": {},
     "output_type": "execute_result"
    }
   ],
   "source": [
    "max_example1 = [\"157 ORE => 5 NZVS\",\"165 ORE => 6 DCFZ\",\"44 XJWVT, 5 KHKGT, 1 QDVJ, 29 NZVS, 9 GPVTF, 48 HKGWZ => 1 FUEL\",\"12 HKGWZ, 1 GPVTF, 8 PSHF => 9 QDVJ\",\"179 ORE => 7 PSHF\",\"177 ORE => 5 HKGWZ\",\"7 DCFZ, 7 PSHF => 2 XJWVT\",\"165 ORE => 2 GPVTF\",\"3 DCFZ, 7 NZVS, 5 HKGWZ, 10 PSHF => 8 KHKGT\"]\n",
    "max_fuel(max_example1)"
   ]
  },
  {
   "cell_type": "code",
   "execution_count": 14,
   "metadata": {},
   "outputs": [
    {
     "data": {
      "text/plain": [
       "5586022"
      ]
     },
     "execution_count": 14,
     "metadata": {},
     "output_type": "execute_result"
    }
   ],
   "source": [
    "max_example2 = [\"2 VPVL, 7 FWMGM, 2 CXFTF, 11 MNCFX => 1 STKFG\",\"17 NVRVD, 3 JNWZP => 8 VPVL\",\"53 STKFG, 6 MNCFX, 46 VJHF, 81 HVMC, 68 CXFTF, 25 GNMV => 1 FUEL\",\"22 VJHF, 37 MNCFX => 5 FWMGM\",\"139 ORE => 4 NVRVD\",\"144 ORE => 7 JNWZP\",\"5 MNCFX, 7 RFSQX, 2 FWMGM, 2 VPVL, 19 CXFTF => 3 HVMC\",\"5 VJHF, 7 MNCFX, 9 VPVL, 37 CXFTF => 6 GNMV\",\"145 ORE => 6 MNCFX\",\"1 NVRVD => 8 CXFTF\",\"1 VJHF, 6 MNCFX => 4 RFSQX\",\"176 ORE => 6 VJHF\"]\n",
    "max_fuel(max_example2)"
   ]
  },
  {
   "cell_type": "code",
   "execution_count": 15,
   "metadata": {},
   "outputs": [
    {
     "data": {
      "text/plain": [
       "6326857"
      ]
     },
     "execution_count": 15,
     "metadata": {},
     "output_type": "execute_result"
    }
   ],
   "source": [
    "max_fuel(data_set)"
   ]
  },
  {
   "cell_type": "code",
   "execution_count": null,
   "metadata": {},
   "outputs": [],
   "source": []
  }
 ],
 "metadata": {
  "kernelspec": {
   "display_name": "Python 3",
   "language": "python",
   "name": "python3"
  },
  "language_info": {
   "codemirror_mode": {
    "name": "ipython",
    "version": 3
   },
   "file_extension": ".py",
   "mimetype": "text/x-python",
   "name": "python",
   "nbconvert_exporter": "python",
   "pygments_lexer": "ipython3",
   "version": "3.7.4"
  }
 },
 "nbformat": 4,
 "nbformat_minor": 2
}
