{
 "cells": [
  {
   "cell_type": "code",
   "execution_count": 58,
   "metadata": {},
   "outputs": [],
   "source": [
    "class vec3f(object):\n",
    "    \n",
    "    def __init__(self, x,y,z):\n",
    "        self.x = int(x)\n",
    "        self.y = int(y)\n",
    "        self.z = int(z)\n",
    "        \n",
    "    def step(self, v):\n",
    "        self.x = self.x + v.x\n",
    "        self.y = self.y + v.y\n",
    "        self.z = self.z + v.z\n",
    "        \n",
    "    def __str__(self):\n",
    "        return '<x=%i, y=%i, z=%i>' % (self.x, self.y, self.z)\n",
    "\n",
    "class Moon(object):\n",
    "    \n",
    "    def __init__(self, pos_str):\n",
    "        noangles = pos_str[1:-1]\n",
    "        coords = {}\n",
    "        for s in noangles.split(','):\n",
    "            coords[s.strip().split('=')[0]] = float(s.strip()[2:])\n",
    "        \n",
    "        self.pos = vec3f(coords['x'], coords['y'], coords['z'])\n",
    "        self.vel = vec3f(0,0,0)\n",
    "\n",
    "    def gravitize(self, other_moon):\n",
    "        if(self == other_moon):\n",
    "            return\n",
    "        if(other_moon.pos.x < self.pos.x):\n",
    "            self.vel.x = self.vel.x - 1\n",
    "        elif(other_moon.pos.x > self.pos.x):\n",
    "            self.vel.x = self.vel.x + 1\n",
    "        if(other_moon.pos.y < self.pos.y):\n",
    "            self.vel.y = self.vel.y - 1\n",
    "        elif(other_moon.pos.y > self.pos.y):\n",
    "            self.vel.y = self.vel.y + 1\n",
    "        if(other_moon.pos.z < self.pos.z):\n",
    "            self.vel.z = self.vel.z - 1\n",
    "        elif(other_moon.pos.z > self.pos.z):\n",
    "            self.vel.z = self.vel.z + 1\n",
    "            \n",
    "    def potential(self):\n",
    "        return abs(self.pos.x) + abs(self.pos.y) + abs(self.pos.z)\n",
    "\n",
    "    def kinetic(self):\n",
    "        return abs(self.vel.x) + abs(self.vel.y) + abs(self.vel.z)\n",
    "    \n",
    "    def total_energy(self):\n",
    "        return self.potential() * self.kinetic()"
   ]
  },
  {
   "cell_type": "code",
   "execution_count": 59,
   "metadata": {},
   "outputs": [
    {
     "name": "stdout",
     "output_type": "stream",
     "text": [
      "0\n",
      "-1\n",
      "2\n"
     ]
    }
   ],
   "source": [
    "moon = Moon('<y=-1, x=0, z=2>')\n",
    "print(moon.pos.x)\n",
    "print(moon.pos.y)\n",
    "print(moon.pos.z)"
   ]
  },
  {
   "cell_type": "code",
   "execution_count": 61,
   "metadata": {},
   "outputs": [
    {
     "name": "stdout",
     "output_type": "stream",
     "text": [
      "179\n"
     ]
    }
   ],
   "source": [
    "class System(object):\n",
    "    def __init__(self, data):\n",
    "        self.moons = [Moon(i) for i in data]\n",
    "        \n",
    "    def step(self):\n",
    "        for i in range(len(self.moons)-1):\n",
    "            m1 = self.moons[i]\n",
    "            for j in range(i+1, len(self.moons)):\n",
    "                m2 = self.moons[j]\n",
    "                m1.gravitize(m2);\n",
    "                m2.gravitize(m1);\n",
    "        for moon in self.moons:\n",
    "            moon.pos.step(moon.vel)\n",
    "            \n",
    "    def total_energy(self):\n",
    "        energy = 0\n",
    "        for moon in self.moons:\n",
    "            energy = energy + moon.total_energy()\n",
    "        return energy\n",
    "\n",
    "    def __repr__(self):\n",
    "        s = ''\n",
    "        for moon in self.moons:\n",
    "            s = s + ('pos=%s, vel=%s\\n' % (str(moon.pos), str(moon.vel)))\n",
    "        return s\n",
    "    \n",
    "    def tight_rep(self, d):\n",
    "        s = ''\n",
    "        \n",
    "        if(d == 0):\n",
    "            for moon in self.moons:\n",
    "                s = s + ('%s%s' % (str(moon.pos.x), str(moon.vel.x)))\n",
    "        if(d == 1):\n",
    "            for moon in self.moons:\n",
    "                s = s + ('%s%s' % (str(moon.pos.y), str(moon.vel.y)))\n",
    "        if(d == 2):\n",
    "            for moon in self.moons:\n",
    "                s = s + ('%s%s' % (str(moon.pos.z), str(moon.vel.z)))\n",
    "                \n",
    "        return s\n",
    "\n",
    "example1 = ['<x=-1, y=0, z=2>','<x=2, y=-10, z=-7>','<x=4, y=-8, z=8>','<x=3, y=5, z=-1>']\n",
    "test_system = System(example1)\n",
    "for i in range(10):\n",
    "    test_system.step()\n",
    "print(test_system.total_energy())"
   ]
  },
  {
   "cell_type": "code",
   "execution_count": 62,
   "metadata": {},
   "outputs": [
    {
     "name": "stdout",
     "output_type": "stream",
     "text": [
      "1940\n"
     ]
    }
   ],
   "source": [
    "example2 = [\"<x=-8, y=-10, z=0>\",\"<x=5, y=5, z=10>\",\"<x=2, y=-7, z=3>\",\"<x=9, y=-8, z=-3>\"]\n",
    "sys2 = System(example2)\n",
    "for i in range(100):\n",
    "    sys2.step()\n",
    "print(sys2.total_energy())"
   ]
  },
  {
   "cell_type": "code",
   "execution_count": 63,
   "metadata": {},
   "outputs": [
    {
     "name": "stdout",
     "output_type": "stream",
     "text": [
      "1940\n"
     ]
    }
   ],
   "source": [
    "def sim_run(data, steps):\n",
    "    system = System(data)\n",
    "    for i in range(steps):\n",
    "        system.step()\n",
    "    return system.total_energy()\n",
    "\n",
    "print(sim_run(example2, 100))"
   ]
  },
  {
   "cell_type": "code",
   "execution_count": 64,
   "metadata": {},
   "outputs": [
    {
     "name": "stdout",
     "output_type": "stream",
     "text": [
      "part 1: 10845\n"
     ]
    }
   ],
   "source": [
    "part1 = [\"<x=5, y=4, z=4>\",\"<x=-11, y=-11, z=-3>\",\"<x=0, y=7, z=0>\",\"<x=-13, y=2, z=10>\"]\n",
    "\n",
    "print('part 1: %i' % sim_run(part1, 1000))"
   ]
  },
  {
   "cell_type": "code",
   "execution_count": 77,
   "metadata": {},
   "outputs": [
    {
     "name": "stdout",
     "output_type": "stream",
     "text": [
      "[2, 3, 5, 7, 11, 13, 17, 19, 23, 29]\n",
      "x_period=18, y_period=28, z_period=44\n",
      "2772\n"
     ]
    }
   ],
   "source": [
    "def find_gcd(vals):\n",
    "    smallest = vals[0]\n",
    "    for val in vals[1:]:\n",
    "        if(val < smallest):\n",
    "            smallest = val\n",
    "    gcd = 1\n",
    "    for i in range(1,smallest):\n",
    "        if(vals[0] % i == 0 and\n",
    "           vals[1] % i == 0 and\n",
    "           vals[2] % i == 0):\n",
    "            gcd = i\n",
    "    print(\"gcd = %i\" % gcd)\n",
    "    return gcd\n",
    "\n",
    "def calc_primes(lessthan):\n",
    "    primes = []\n",
    "    for i in range(2, lessthan):\n",
    "        is_prime = True\n",
    "        for p in primes:\n",
    "            if((i % p) == 0):\n",
    "                is_prime = False\n",
    "                break\n",
    "        if(is_prime):\n",
    "            primes.append(i)\n",
    "    return primes\n",
    "print(calc_primes(30))\n",
    "\n",
    "def find_lcm(vals):\n",
    "    highest = vals[0]\n",
    "    for val in vals[1:]:\n",
    "        if(val > highest):\n",
    "            highest = val\n",
    "    primes = calc_primes(highest)\n",
    "    \n",
    "    factorize = [{}, {}, {}]\n",
    "    expos = {}\n",
    "    \n",
    "    for prime in primes:\n",
    "        bigf = 0\n",
    "        for i in range(3):\n",
    "            f = 0\n",
    "            r = vals[i]\n",
    "            while((r % prime) == 0):\n",
    "                f = f + 1\n",
    "                r = r / prime\n",
    "            factorize[i][prime] = f\n",
    "            if(f > bigf):\n",
    "                bigf = f\n",
    "        if(bigf > 0):\n",
    "            expos[prime] = bigf\n",
    "    final = 1\n",
    "    for k in expos.keys():\n",
    "        final = final * (k ** expos[k])\n",
    "    return final\n",
    "    #return (vals[0] * vals[1] * vals[2]) / find_gcd(vals)\n",
    "\n",
    "def sim_run_repeat(data):\n",
    "    system = System(data)\n",
    "    record_x = {}\n",
    "    record_y = {}\n",
    "    record_z = {}\n",
    "    x_period = -1\n",
    "    y_period = -1\n",
    "    z_period = -1\n",
    "    \n",
    "    record_x[system.tight_rep(0)] = True\n",
    "    record_y[system.tight_rep(1)] = True\n",
    "    record_z[system.tight_rep(2)] = True\n",
    "    \n",
    "    i = 0\n",
    "    while(True):\n",
    "        system.step()\n",
    "        i = i + 1\n",
    "        if((i % 1000000) == 0):\n",
    "            print(i)\n",
    "        if(x_period < 0):\n",
    "            tr = system.tight_rep(0)\n",
    "            if(tr in record_x):\n",
    "                x_period = i\n",
    "            else:\n",
    "                record_x[tr] = True\n",
    "        if(y_period < 0):\n",
    "            tr = system.tight_rep(1)\n",
    "            if(tr in record_y):\n",
    "                y_period = i\n",
    "            else:\n",
    "                record_y[tr] = True\n",
    "        if(z_period < 0):\n",
    "            tr = system.tight_rep(2)\n",
    "            if(tr in record_z):\n",
    "                z_period = i\n",
    "            else:\n",
    "                record_z[tr] = True\n",
    "        if(x_period > -1 and y_period > -1 and z_period > -1 ):\n",
    "            print('x_period=%i, y_period=%i, z_period=%i' % (x_period, y_period, z_period))\n",
    "            return find_lcm([x_period, y_period, z_period])\n",
    "\n",
    "\n",
    "        \n",
    "print(sim_run_repeat(example1))"
   ]
  },
  {
   "cell_type": "code",
   "execution_count": 78,
   "metadata": {},
   "outputs": [
    {
     "name": "stdout",
     "output_type": "stream",
     "text": [
      "x_period=2028, y_period=5898, z_period=4702\n",
      "4686774924\n"
     ]
    }
   ],
   "source": [
    "print(sim_run_repeat(example2))"
   ]
  },
  {
   "cell_type": "code",
   "execution_count": 79,
   "metadata": {},
   "outputs": [
    {
     "name": "stdout",
     "output_type": "stream",
     "text": [
      "x_period=186028, y_period=231614, z_period=102356\n",
      "part 2: 551272644867044\n"
     ]
    }
   ],
   "source": [
    "print('part 2: %i' % sim_run_repeat(part1))"
   ]
  },
  {
   "cell_type": "code",
   "execution_count": null,
   "metadata": {},
   "outputs": [],
   "source": []
  }
 ],
 "metadata": {
  "kernelspec": {
   "display_name": "Python 3",
   "language": "python",
   "name": "python3"
  },
  "language_info": {
   "codemirror_mode": {
    "name": "ipython",
    "version": 3
   },
   "file_extension": ".py",
   "mimetype": "text/x-python",
   "name": "python",
   "nbconvert_exporter": "python",
   "pygments_lexer": "ipython3",
   "version": "3.7.4"
  }
 },
 "nbformat": 4,
 "nbformat_minor": 2
}
