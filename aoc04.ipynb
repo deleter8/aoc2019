{
 "cells": [
  {
   "cell_type": "code",
   "execution_count": 15,
   "metadata": {},
   "outputs": [
    {
     "name": "stdout",
     "output_type": "stream",
     "text": [
      "count: 1079\n",
      "count2: 699\n"
     ]
    }
   ],
   "source": [
    "start = 245318\n",
    "finish = 765747\n",
    "\n",
    "def hasdup(s):\n",
    "    for i in range(len(s) - 1):\n",
    "        if s[i] == s[i+1]:\n",
    "            return True\n",
    "    return False\n",
    "\n",
    "def doesinc(s):\n",
    "    for i in range(len(s) - 1):\n",
    "        if int(s[i]) > int(s[i+1]):\n",
    "            return False\n",
    "    return True\n",
    "\n",
    "\n",
    "\n",
    "def hasdup2(s):\n",
    "    dupcount = {}\n",
    "    for i in range(len(s)):\n",
    "        if(s[i] in dupcount):\n",
    "            dupcount[s[i]] = dupcount[s[i]] + 1\n",
    "        else:\n",
    "            dupcount[s[i]] = 1\n",
    "    for dups in dupcount.values():\n",
    "        if(dups == 2):\n",
    "            return True\n",
    "    return False\n",
    "\n",
    "\n",
    "count = 0\n",
    "count2 = 0\n",
    "for n in range(start,finish+1):\n",
    "    ns = str(n)\n",
    "    if(hasdup(ns) and doesinc(ns)):\n",
    "        count = count + 1\n",
    "        if(hasdup2(ns)):\n",
    "            count2 = count2 + 1\n",
    "\n",
    "print(\"count: %i\" % count)\n",
    "print(\"count2: %i\" % count2)"
   ]
  },
  {
   "cell_type": "code",
   "execution_count": null,
   "metadata": {},
   "outputs": [],
   "source": []
  }
 ],
 "metadata": {
  "kernelspec": {
   "display_name": "Python 3",
   "language": "python",
   "name": "python3"
  },
  "language_info": {
   "codemirror_mode": {
    "name": "ipython",
    "version": 3
   },
   "file_extension": ".py",
   "mimetype": "text/x-python",
   "name": "python",
   "nbconvert_exporter": "python",
   "pygments_lexer": "ipython3",
   "version": "3.7.4"
  }
 },
 "nbformat": 4,
 "nbformat_minor": 2
}
