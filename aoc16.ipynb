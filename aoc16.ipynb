{
 "cells": [
  {
   "cell_type": "code",
   "execution_count": 18,
   "metadata": {},
   "outputs": [],
   "source": [
    "import math\n",
    "\n",
    "pattern = [0, 1, 0, -1]\n",
    "\n",
    "def pattern_pos(pos, i):\n",
    "    adjusted_pos = math.floor((pos + 1) / (i + 1)) % 4\n",
    "    return pattern[adjusted_pos]\n",
    "\n",
    "def FFT(signal, times=1):\n",
    "    output = [int(c) for c in signal]\n",
    "    slen = len(signal)\n",
    "    \n",
    "    plookup = []\n",
    "    for i in range(slen):\n",
    "        plookup.append([])\n",
    "        for j in range(slen):\n",
    "            plookup[i].append(pattern_pos(j, i))\n",
    "    \n",
    "    for t in range(times):\n",
    "        signal = output\n",
    "        print(''.join([str(o) for o in output]))\n",
    "        for i in range(slen):\n",
    "            isum = 0\n",
    "            for j in range(slen):\n",
    "                isum = isum + signal[j] * plookup[i][j]# * pattern_pos(j, i)\n",
    "            output[i] = int(str(isum)[-1])\n",
    "    return ''.join([str(o) for o in output])\n",
    "            "
   ]
  },
  {
   "cell_type": "code",
   "execution_count": 2,
   "metadata": {},
   "outputs": [
    {
     "name": "stdout",
     "output_type": "stream",
     "text": [
      "03415518\n"
     ]
    }
   ],
   "source": [
    "print(FFT('12345678', 3))"
   ]
  },
  {
   "cell_type": "code",
   "execution_count": 3,
   "metadata": {},
   "outputs": [
    {
     "name": "stdout",
     "output_type": "stream",
     "text": [
      "24176176\n"
     ]
    }
   ],
   "source": [
    "print(FFT('80871224585914546619083218645595', 100)[0:8])"
   ]
  },
  {
   "cell_type": "code",
   "execution_count": 4,
   "metadata": {},
   "outputs": [
    {
     "name": "stdout",
     "output_type": "stream",
     "text": [
      "73745418\n"
     ]
    }
   ],
   "source": [
    "print(FFT('19617804207202209144916044189917', 100)[0:8])"
   ]
  },
  {
   "cell_type": "code",
   "execution_count": 5,
   "metadata": {},
   "outputs": [
    {
     "name": "stdout",
     "output_type": "stream",
     "text": [
      "52432133\n"
     ]
    }
   ],
   "source": [
    "print(FFT('69317163492948606335995924319873', 100)[0:8])"
   ]
  },
  {
   "cell_type": "code",
   "execution_count": 8,
   "metadata": {},
   "outputs": [
    {
     "name": "stdout",
     "output_type": "stream",
     "text": [
      "part 1 answer: 69549155\n"
     ]
    }
   ],
   "source": [
    "data = '59756772370948995765943195844952640015210703313486295362653878290009098923609769261473534009395188480864325959786470084762607666312503091505466258796062230652769633818282653497853018108281567627899722548602257463608530331299936274116326038606007040084159138769832784921878333830514041948066594667152593945159170816779820264758715101494739244533095696039336070510975612190417391067896410262310835830006544632083421447385542256916141256383813360662952845638955872442636455511906111157861890394133454959320174572270568292972621253460895625862616228998147301670850340831993043617316938748361984714845874270986989103792418940945322846146634931990046966552'\n",
    "print(\"part 1 answer: %s\" % FFT(data, 100)[0:8])"
   ]
  },
  {
   "cell_type": "code",
   "execution_count": 11,
   "metadata": {},
   "outputs": [
    {
     "data": {
      "text/plain": [
       "524323"
      ]
     },
     "execution_count": 11,
     "metadata": {},
     "output_type": "execute_result"
    }
   ],
   "source": [
    "len(data)*10000 - int(data[:7])"
   ]
  },
  {
   "cell_type": "code",
   "execution_count": 25,
   "metadata": {},
   "outputs": [
    {
     "name": "stdout",
     "output_type": "stream",
     "text": [
      "59756772\n",
      "32852692\n",
      "25529712\n",
      "52699032\n",
      "55414552\n",
      "01956272\n",
      "01007192\n",
      "29779212\n",
      "33394532\n",
      "12614052\n",
      "63101772\n",
      "10257692\n",
      "33474712\n",
      "21594032\n",
      "23869552\n",
      "21351272\n",
      "75952192\n",
      "94674212\n",
      "67749532\n",
      "56019052\n",
      "91056772\n",
      "83152692\n",
      "01829712\n",
      "01999032\n",
      "37714552\n",
      "54256272\n",
      "23307192\n",
      "34079212\n",
      "11694532\n",
      "41914052\n",
      "65401772\n",
      "45557692\n",
      "35774712\n",
      "14894032\n",
      "69169552\n",
      "90651272\n",
      "33252192\n",
      "65974212\n",
      "01049532\n",
      "67319052\n",
      "75356772\n",
      "36452692\n",
      "85129712\n",
      "52299032\n",
      "91014552\n",
      "89556272\n",
      "25607192\n",
      "61379212\n",
      "11994532\n",
      "72214052\n",
      "41701772\n",
      "96857692\n",
      "11074712\n",
      "47194032\n",
      "45469552\n",
      "41951272\n",
      "11552192\n",
      "14274212\n",
      "23349532\n",
      "52619052\n",
      "33656772\n",
      "45752692\n",
      "03429712\n",
      "41599032\n",
      "53314552\n",
      "14856272\n",
      "83907192\n",
      "32679212\n",
      "55294532\n",
      "41514052\n",
      "21001772\n",
      "43157692\n",
      "11374712\n",
      "14494032\n",
      "25769552\n",
      "12251272\n",
      "75852192\n",
      "83574212\n",
      "65649532\n",
      "63919052\n",
      "17956772\n",
      "92052692\n",
      "23729712\n",
      "32899032\n",
      "17614552\n",
      "63156272\n",
      "45207192\n",
      "03979212\n",
      "19594532\n",
      "36814052\n",
      "69301772\n",
      "32457692\n",
      "39674712\n",
      "07794032\n",
      "61069552\n",
      "09551272\n",
      "15152192\n",
      "74874212\n",
      "29949532\n",
      "10219052\n",
      "33256772\n"
     ]
    }
   ],
   "source": [
    "print(FFT('59756772', 100))"
   ]
  },
  {
   "cell_type": "code",
   "execution_count": 22,
   "metadata": {},
   "outputs": [
    {
     "name": "stdout",
     "output_type": "stream",
     "text": [
      "{'00': 1, '01': 10, '02': 5, '03': 10, '04': 5, '05': 2, '06': 5, '07': 10, '08': 5, '09': 10, '10': 1, '11': 10, '12': 5, '13': 10, '14': 5, '15': 2, '16': 5, '17': 10, '18': 5, '19': 10, '20': 1, '21': 10, '22': 5, '23': 10, '24': 5, '25': 2, '26': 5, '27': 10, '28': 5, '29': 10, '30': 1, '31': 10, '32': 5, '33': 10, '34': 5, '35': 2, '36': 5, '37': 10, '38': 5, '39': 10, '40': 1, '41': 10, '42': 5, '43': 10, '44': 5, '45': 2, '46': 5, '47': 10, '48': 5, '49': 10, '50': 1, '51': 10, '52': 5, '53': 10, '54': 5, '55': 2, '56': 5, '57': 10, '58': 5, '59': 10, '60': 1, '61': 10, '62': 5, '63': 10, '64': 5, '65': 2, '66': 5, '67': 10, '68': 5, '69': 10, '70': 1, '71': 10, '72': 5, '73': 10, '74': 5, '75': 2, '76': 5, '77': 10, '78': 5, '79': 10, '80': 1, '81': 10, '82': 5, '83': 10, '84': 5, '85': 2, '86': 5, '87': 10, '88': 5, '89': 10, '90': 1, '91': 10, '92': 5, '93': 10, '94': 5, '95': 2, '96': 5, '97': 10, '98': 5, '99': 10}\n"
     ]
    }
   ],
   "source": [
    "cycles = {}\n",
    "for i in range(10):\n",
    "    for j in range(10):\n",
    "        count = 0\n",
    "        r = i\n",
    "        while(True):\n",
    "            r = (r + j) % 10\n",
    "            count = count + 1\n",
    "            if(r == i):\n",
    "                break\n",
    "        cycles[str(i) + str(j)] = count\n",
    "\n",
    "print(cycles)\n",
    "        "
   ]
  },
  {
   "cell_type": "code",
   "execution_count": null,
   "metadata": {},
   "outputs": [],
   "source": []
  }
 ],
 "metadata": {
  "kernelspec": {
   "display_name": "Python 3",
   "language": "python",
   "name": "python3"
  },
  "language_info": {
   "codemirror_mode": {
    "name": "ipython",
    "version": 3
   },
   "file_extension": ".py",
   "mimetype": "text/x-python",
   "name": "python",
   "nbconvert_exporter": "python",
   "pygments_lexer": "ipython3",
   "version": "3.7.4"
  }
 },
 "nbformat": 4,
 "nbformat_minor": 2
}
